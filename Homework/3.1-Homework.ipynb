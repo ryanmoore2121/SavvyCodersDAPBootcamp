{
 "cells": [
  {
   "attachments": {},
   "cell_type": "markdown",
   "metadata": {},
   "source": [
    "# 3.1 Homework\n",
    "\n",
    "1. #### What is an algorithm? \n",
    "    Algorithms are a series of steps to solve a problem at hand. \n",
    "\n",
    "2. #### Why is Python considered to be a high-level language?\n",
    "    Python is a high-level language becuase the program must be processed before they can be run by a computer. Python is made so that is it easier for us to understand but this requires the computer to convert the program into machine language so that the computer can understand it.\n",
    "\n",
    "3. #### Is Python a Natural or a Formal language?\n",
    "    Python is consideed a formal language. \n",
    "\n",
    "4. #### Variable names may not start with certain characters - name two.\n",
    "    Variable names cannot start with a number or characters such as @, #, $. \n",
    "\n",
    "5. #### What is a Semantic error?\n",
    "    A semantic error is code that is grammatically correct but doesn't make any sense and it doesn't produce the results we expect this could be code such as asking for the sum of two numbers by coding it like:\n",
    "    num1 = \"1\" num2 = \"1\" sum = num 1 + num 2 print(sum)\n",
    "    This will print 11 and not the expected 2 because of the paranthesis. \n",
    "\n",
    "6. #### What is the #1 rule of coding / debugging?\n",
    "    Complexity is the enemy of efficiency. \n",
    "\n",
    "7. #### List 5 Python reserved words.\n",
    "    and, none, true, false, if  \n",
    "\n",
    "7. #### Add and name, a web link for any Python coding article, in your markdown cell\n",
    "    Data Structures in Python:  https://docs.python.org/3/tutorial/datastructures.html \n"
   ]
  },
  {
   "cell_type": "code",
   "execution_count": 8,
   "metadata": {},
   "outputs": [
    {
     "name": "stdout",
     "output_type": "stream",
     "text": [
      "<class 'int'>\n",
      "<class 'list'>\n",
      "<class 'str'>\n",
      "<class 'float'>\n",
      "<class 'range'>\n",
      "My string has a length of 4\n",
      "The 4th character in my string is at index: n\n"
     ]
    }
   ],
   "source": [
    "#Homework Step 3\n",
    "\"\"\" \n",
    "Hi my name is Ryan Moore.\n",
    "My favorite food is steak. \n",
    "My dream job is a job is any job that makes me excited to wake up and go to work. \n",
    "\"\"\" \n",
    "\n",
    "# 5 Different Data Types\n",
    "datatype1 = 1\n",
    "datatype2 = [1, 2, 3, 4, 5]\n",
    "datatype3 = \"Ryan\"\n",
    "datatype4 = 2.5\n",
    "datatype5 = range(5)\n",
    "\n",
    "#Printing the type of each datatype to test work. \n",
    "print(type(datatype1))\n",
    "print(type(datatype2))\n",
    "print(type(datatype3))\n",
    "print(type(datatype4))\n",
    "print(type(datatype5))\n",
    "\n",
    "# Printing the length of my string. \n",
    "print(\"My string has a length of\", len(datatype3))\n",
    "\n",
    "#Printing the Index value of the 4th character in my string. \n",
    "print(\"The 4th character in my string is at index:\", datatype3[3:5])"
   ]
  },
  {
   "cell_type": "code",
   "execution_count": 24,
   "metadata": {},
   "outputs": [
    {
     "name": "stdout",
     "output_type": "stream",
     "text": [
      "ing Data Analytics \n",
      "Learning Data Analytics and Python is Great!\n",
      "Python is found in savvy\n"
     ]
    }
   ],
   "source": [
    "#Homework Step 3 Continued. \n",
    "\n",
    "#New vairable called savvy\n",
    "savvy = \"Learning Data Analytics and Python is Awesome!\"\n",
    "\n",
    "#Returning the range of characters that slices the string from the beginning of ing up to before and\n",
    "print(savvy[5:24])\n",
    "\n",
    "#replacing awesome with great in the string - this is a temporary change. \n",
    "print(savvy.replace(\"Awesome\", \"Great\"))\n",
    "\n",
    "#Testing and printing the savvy string to see if it contains \"Python\"\n",
    "word = \"Python\"\n",
    "if word in savvy:\n",
    "    print(f\"{word} is found in savvy\")\n"
   ]
  },
  {
   "cell_type": "code",
   "execution_count": 31,
   "metadata": {},
   "outputs": [
    {
     "name": "stdout",
     "output_type": "stream",
     "text": [
      "Hi my name is Ryan, I am 5'9, and 25 years old today.\n",
      "25.0\n"
     ]
    }
   ],
   "source": [
    "# Homework Step 3 Continued. \n",
    "\n",
    "#Create and assign 3 more variables called name, age and length using the multi-variable naming method.\n",
    "name, age, length = \"Ryan\", 25, \"5'9\"\n",
    "\n",
    "#Format a new string called 'miniBio' using variables in curly brackets to complete this phrase... \"Hi my name is (name), I am (tall) and (so) old today.\"\n",
    "miniBio = f\"Hi my name is {name}, I am {length}, and {age} years old today.\"\n",
    "\n",
    "#print 'miniBio'\n",
    "print(miniBio)\n",
    "\n",
    "#cast and print the age variable to a float.\n",
    "age = float(age)\n",
    "print(age)\n"
   ]
  }
 ],
 "metadata": {
  "kernelspec": {
   "display_name": "Python 3",
   "language": "python",
   "name": "python3"
  },
  "language_info": {
   "codemirror_mode": {
    "name": "ipython",
    "version": 3
   },
   "file_extension": ".py",
   "mimetype": "text/x-python",
   "name": "python",
   "nbconvert_exporter": "python",
   "pygments_lexer": "ipython3",
   "version": "3.11.1 (v3.11.1:a7a450f84a, Dec  6 2022, 15:24:06) [Clang 13.0.0 (clang-1300.0.29.30)]"
  },
  "orig_nbformat": 4,
  "vscode": {
   "interpreter": {
    "hash": "aee8b7b246df8f9039afb4144a1f6fd8d2ca17a180786b69acc140d282b71a49"
   }
  }
 },
 "nbformat": 4,
 "nbformat_minor": 2
}
