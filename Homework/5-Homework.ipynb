{
 "cells": [
  {
   "attachments": {},
   "cell_type": "markdown",
   "metadata": {},
   "source": [
    "# Python Homework Week 5\n",
    "\n",
    "\n",
    "### What does Pandas stand for?\n",
    "\n",
    "Pandas derived from the word \"Panel Data\"\n",
    "\n",
    "### What are the 2 collections used in Pandas?\n",
    "\n",
    "\n",
    "\n",
    "#### Name 4 things Pandas can do for us.\n",
    "\n",
    "Pandas can do data visualizations, data cleaning, data inspections, and statistical analysis. \n",
    "\n",
    "### To permanently sort a DataFrame, which keyword should one use with the df.sort() method?\n",
    "\n",
    "The inplace = True key word will update the dataframe to the new change.  \n",
    "\n",
    "### What is a CSV\n",
    "\n",
    "A CSV stands for a comma separated value file. \n",
    "\n",
    "### When cleaning data what values do we not like in our data?\n",
    "\n",
    "Null values because these are the wrong result when you analyze data.  "
   ]
  },
  {
   "cell_type": "code",
   "execution_count": 184,
   "metadata": {},
   "outputs": [
    {
     "name": "stdout",
     "output_type": "stream",
     "text": [
      "This is the new array: \n",
      "     0   1\n",
      "0  25  16\n",
      "0  11   2\n",
      "1  13   4\n",
      "0   7  81\n",
      "1   5   6\n",
      "2  11  12 \n",
      "\n",
      "This is the sorted array: \n",
      "     0   1\n",
      "1   5   6\n",
      "0   7  81\n",
      "0  11   2\n",
      "2  11  12\n",
      "1  13   4\n",
      "0  25  16 \n",
      "\n",
      "This is the reshaped array: \n",
      " [[[ 5  6  7]\n",
      "  [81 11  2]]\n",
      "\n",
      " [[11 12 13]\n",
      "  [ 4 25 16]]] \n",
      "\n",
      "This is var1: [5 6 7] \n",
      " This is var2: [81 11  2] \n",
      " This is var3: [11 12 13] \n",
      " This is var4: [ 4 25 16]\n"
     ]
    }
   ],
   "source": [
    " #Concatenate these 3 arrays into a new array named 'newArray'\n",
    "import pandas as pd\n",
    "\n",
    "a1 = pd.DataFrame([[25, 16]])\n",
    "a2 = pd.DataFrame([[11, 2], [13, 4]])\n",
    "a3 = pd.DataFrame([[7, 81], [5, 6], [11, 12]])\n",
    "\n",
    "newArray = pd.concat([a1, a2, a3], axis= 0)\n",
    "print('This is the new array: \\n', newArray, '\\n')\n",
    "\n",
    "#Sort 'newArray' in order into 'sortedArray'\n",
    "\n",
    "sortedArray = pd.DataFrame(newArray.sort_values(by = [0 , 1]))\n",
    "print('This is the sorted array: \\n', sortedArray,'\\n')\n",
    "\n",
    "# Reshape the 'sortedArray' array, into a new array called 'reshapedArray', so it has 2 dimensions with a size of 2, 3.\n",
    "reshapedArray = sortedArray.values.reshape(2, 2, 3)\n",
    "print('This is the reshaped array: \\n', reshapedArray,'\\n')\n",
    "\n",
    "#Unpack the array tuples from the above 'reshapedArray' into 4 well named variables. Print the 4 variables.\n",
    "a = reshapedArray.reshape(4,3)\n",
    "\n",
    "var1, var2, var3, var4 = a[0], a[1], a[2], a[3]\n",
    "print('This is var1:',var1,'\\n','This is var2:', var2,'\\n', 'This is var3:',var3, '\\n', 'This is var4:',var4)\n"
   ]
  },
  {
   "cell_type": "code",
   "execution_count": 260,
   "metadata": {},
   "outputs": [
    {
     "name": "stdout",
     "output_type": "stream",
     "text": [
      "[ 0  1  2  3  4  5  6  7 10 11 12 13 14 15 16 17 20 21 22 23 24 25 26 27] \n",
      "\n",
      "1 \n",
      "\n",
      "[ 2  3  4  5  6  7 10 11 12 13 14 15 16 17 20 21 22 23 24 25 26 27] \n",
      "\n",
      "[ 3  4  5  6  7 10 11 12 13 14 15] \n",
      "\n",
      "[22 23 24 25 26 27]\n",
      "[ 0  1  2  3  4  5  6  7 10 11 12 13 14 15]\n",
      "[20 22 24 26]\n",
      "[27 22 15 10  3]\n"
     ]
    }
   ],
   "source": [
    "#Combined and sort the following arrays into one called 'comboArray' \n",
    "import pandas as pd\n",
    "import numpy as np\n",
    "\n",
    "one = np.array([10, 11, 12, 13, 14, 15, 16, 17])\n",
    "two = np.array([20, 21, 22, 23, 24, 25, 26, 27])\n",
    "three = np.array([0, 1, 2, 3, 4, 5, 6, 7])\n",
    "\n",
    "a = np.concatenate([one,two,three], axis = 0)\n",
    "\n",
    "\n",
    "comboArray= np.sort(a)\n",
    "print(comboArray, '\\n')\n",
    "\n",
    "#Take 'comboArray' and perform the following slicing activities: print sec1 - the 2nd element\n",
    "sec1 = comboArray[1]\n",
    "print(sec1, '\\n')\n",
    "\n",
    "#print sec2 - all elements from the 3rd element to the last\n",
    "\n",
    "sec2 = comboArray[2:]\n",
    "print(sec2, '\\n')\n",
    "\n",
    "#print sec3 - all elements from the 4th to the 14th elements\n",
    "\n",
    "sec3 = comboArray[3:14]\n",
    "print(sec3, '\\n')\n",
    "\n",
    "#print sec4 - the last 6 elements\n",
    "\n",
    "sec4 = comboArray[-6:]\n",
    "print(sec4)\n",
    "\n",
    "#print sec5 - all element from #0 up to and including #15, using the negative number method, i.e. taking a section from the end.\n",
    "\n",
    "sec5 = comboArray[:-10]\n",
    "print(sec5)\n",
    "\n",
    "#print sec6 - from #20 every even element to the end\n",
    "\n",
    "sec6 = comboArray[16::2]\n",
    "print(sec6)\n",
    "\n",
    "#print sec7 - from the last element moving forward, every 5th element.\n",
    "\n",
    "sec7 = comboArray[-1::-5]\n",
    "print(sec7)"
   ]
  },
  {
   "cell_type": "code",
   "execution_count": 271,
   "metadata": {},
   "outputs": [
    {
     "name": "stdout",
     "output_type": "stream",
     "text": [
      "[[[[ 17.    70.    10.8 ]\n",
      "   [ 27.    80.3   20.71]]]\n",
      "\n",
      "\n",
      " [[[ 37.    90.02  30.8 ]\n",
      "   [ 47.   101.    41.  ]]]\n",
      "\n",
      "\n",
      " [[[ 57.4   94.    50.7 ]\n",
      "   [ 32.    85.5   36.2 ]]]]\n",
      "[[[[-17.   -70.   -10.6 ]\n",
      "   [ -7.   -59.7   -0.69]]]\n",
      "\n",
      "\n",
      " [[[  3.   -49.98   9.4 ]\n",
      "   [ 13.   -39.    19.6 ]]]\n",
      "\n",
      "\n",
      " [[[ 23.4  -46.    29.3 ]\n",
      "   [ -2.   -54.5   14.8 ]]]]\n",
      "[]\n",
      "[ 0.  0. 30. 24. 15.]\n"
     ]
    }
   ],
   "source": [
    "#Using simple math operations, broadcast the addition (+), division (/), and multiplication (*) operations for these 2 arrays --\n",
    "import numpy as np \n",
    "from numpy import array, newaxis\n",
    "import pandas as pd\n",
    "\n",
    "array1 = array([[[ 0.0,  0.0,  0.10], [10.0, 10.30, 10.01]], [[20.0, 20.02, 20.10], [30.0, 31.0, 30.30]], [[40.40, 24.0, 40.0], [15.0, 15.5, 25.5]]])\n",
    "\n",
    "array2= array ([[17.0, 70.0, 10.7]])\n",
    "\n",
    "print(array1[:,newaxis] + array2)\n",
    "\n",
    "#Use the NumPy Arithmetic functions to do the subtraction of the above two arrays in pont #7.\n",
    "\n",
    "print(array1[:,newaxis] - array2)\n",
    "\n",
    "\n",
    "#Using modulo find all elements that are divisible by 3 from the multi-dimensional array under point #7 above.\n",
    "a = array2[array2 % 3 == 0]\n",
    "b = array1[array1 % 3 == 0]\n",
    "divisbleby3 = print(a), print(b)"
   ]
  },
  {
   "cell_type": "code",
   "execution_count": 288,
   "metadata": {},
   "outputs": [
    {
     "name": "stdout",
     "output_type": "stream",
     "text": [
      "  Ingredients  Quantity   Unit\n",
      "0       flour         4   cups\n",
      "1        milk         1    cup\n",
      "2        eggs         2  large\n",
      "3        spam         1    can\n"
     ]
    }
   ],
   "source": [
    "#Using Series, create a DataFrame that looks like this:\n",
    "import pandas as pd \n",
    "s1 = pd.Series(['flour','milk','eggs','spam'], name = 'Ingredients')\n",
    "s2 = pd.Series([4, 1, 2, 1], name = 'Quantity') \n",
    "s3= pd.Series(['cups', 'cup','large', 'can'], name = 'Unit')\n",
    "\n",
    "dataframe1 = pd.concat([s1,s2,s3], axis=1)\n",
    "print(dataframe1)"
   ]
  },
  {
   "cell_type": "code",
   "execution_count": 3,
   "metadata": {},
   "outputs": [
    {
     "name": "stdout",
     "output_type": "stream",
     "text": [
      "      Name  Height Qualification  address  Age        Pets           sport\n",
      "0      Jai     5.1           Msc    Delhi   21         Dog           Darts\n",
      "1  janusha     6.2            MA     Doha   23       Bunny      Basketball\n",
      "2   Gaurav     5.1           Msc  Chennai   24  Chinchilla  PaddleBoarding\n",
      "3     Anuj     5.2           Msc   Dakhar   21      Parrot         Cricket\n",
      "      Name  Height Qualification  address  Age        Pets           sport  \\\n",
      "0      Jai     5.1           Msc    Delhi   21         Dog           Darts   \n",
      "1  janusha     6.2            MA     Doha   23       Bunny      Basketball   \n",
      "2   Gaurav     5.1           Msc  Chennai   24  Chinchilla  PaddleBoarding   \n",
      "3     Anuj     5.2           Msc   Dakhar   21      Parrot         Cricket   \n",
      "\n",
      "        Deserts  \n",
      "0     ice cream  \n",
      "1  Cashew Fudge  \n",
      "2       waffels  \n",
      "3  Carrot Halwa  \n",
      "      Name  Height Qualification  address  Age        Pets           sport  \\\n",
      "3     Anuj     5.2           Msc   Dakhar   21      Parrot         Cricket   \n",
      "2   Gaurav     5.1           Msc  Chennai   24  Chinchilla  PaddleBoarding   \n",
      "0      Jai     5.1           Msc    Delhi   21         Dog           Darts   \n",
      "1  janusha     6.2            MA     Doha   23       Bunny      Basketball   \n",
      "\n",
      "        Deserts  \n",
      "3  Carrot Halwa  \n",
      "2       waffels  \n",
      "0     ice cream  \n",
      "1  Cashew Fudge  \n"
     ]
    }
   ],
   "source": [
    "#Take this data and create a DataFrame named studentData\n",
    "import pandas as pd\n",
    "data={'Name': ['Jai', 'janusha', 'Gaurav', 'Anuj'],\n",
    "      'Height': [5.1, 6.2, 5.1, 5.2],\n",
    "      'Qualification': ['Msc', 'MA', 'Msc', 'Msc'],\n",
    "      'address': ['Delhi', 'Doha', 'Chennai', 'Dakhar'],\n",
    "      'Age': [21, 23, 24, 21],\n",
    "      'Pets': ['Dog', 'Bunny', 'Chinchilla', 'Parrot'],\n",
    "      'sport': ['Darts', 'Basketball', 'PaddleBoarding', 'Cricket']}\n",
    "studentData=pd.DataFrame(data)\n",
    "print(studentData)\n",
    "\n",
    "#Add a new column to the DataFrame with the following deserts: [\"ice cream\", \"Cashew Fudge\", \"waffels\", \"Carrot Halwa\"]\n",
    "\n",
    "deserts = [\"ice cream\", \"Cashew Fudge\", \"waffels\", \"Carrot Halwa\"]\n",
    "studentData['Deserts']= deserts\n",
    "print(studentData)\n",
    "\n",
    "#Sort the 'studentData' DataFrame in Ascending order -- Sorting by column 'Name' and then \"address\"\n",
    "\n",
    "studentData.sort_values(by= ['Name', 'address'], inplace = True)\n",
    "print(studentData)"
   ]
  },
  {
   "cell_type": "code",
   "execution_count": 4,
   "metadata": {},
   "outputs": [
    {
     "name": "stdout",
     "output_type": "stream",
     "text": [
      "           Tomato  Cucumber  Carrot\n",
      "Produce #       1         2       3\n",
      "Taste           2         5       4\n",
      "           Tomato  Cucumber  Carrot  Peppers\n",
      "Produce #       1         2       3        4\n",
      "Taste           2         5       4        5\n"
     ]
    }
   ],
   "source": [
    "#Save this DataFrame here below to disc as a .CSV file with the name cows_and_goats.csv:\n",
    "import pandas as pd\n",
    "\n",
    "df = pd.DataFrame({'Cows': [12, 20], 'Goats': [22, 19]}, index=['Year 1', 'Year 2'])\n",
    "\n",
    "df.to_csv('cows_and_goats.csv')\n",
    "\n",
    "#(A) Using Pandas, make your own .CSV file with data on vegetables and save it. \n",
    "\n",
    "Veggies = pd.DataFrame({'Tomato':[1,2], 'Cucumber':[2,5], 'Carrot':[3,4]}, index =['Produce #', 'Taste'])\n",
    "print (Veggies)\n",
    "\n",
    "Veggies.to_csv('Veggie.csv')\n",
    "# (B) Using Pandas, make a change to your CSV file, and save a copy with a different name.\n",
    "Peppers = [4, 5]\n",
    "Veggies['Peppers'] = Peppers\n",
    "\n",
    "print(Veggies)\n",
    "Veggies.to_csv('Veggieseditted.csv')"
   ]
  }
 ],
 "metadata": {
  "kernelspec": {
   "display_name": "Python 3",
   "language": "python",
   "name": "python3"
  },
  "language_info": {
   "codemirror_mode": {
    "name": "ipython",
    "version": 3
   },
   "file_extension": ".py",
   "mimetype": "text/x-python",
   "name": "python",
   "nbconvert_exporter": "python",
   "pygments_lexer": "ipython3",
   "version": "3.11.1"
  },
  "orig_nbformat": 4,
  "vscode": {
   "interpreter": {
    "hash": "aee8b7b246df8f9039afb4144a1f6fd8d2ca17a180786b69acc140d282b71a49"
   }
  }
 },
 "nbformat": 4,
 "nbformat_minor": 2
}
