{
 "cells": [
  {
   "attachments": {},
   "cell_type": "markdown",
   "metadata": {},
   "source": [
    "# Homework 3.3"
   ]
  },
  {
   "cell_type": "code",
   "execution_count": 17,
   "metadata": {},
   "outputs": [
    {
     "name": "stdout",
     "output_type": "stream",
     "text": [
      "Renting a car is more affordable\n",
      "Renting a car is more affordable.\n",
      "30\n",
      "o\n",
      "u\n",
      "a\n",
      "o\n",
      "e\n",
      "a\n",
      "e\n",
      "a\n",
      "a\n"
     ]
    }
   ],
   "source": [
    "#Create an if statement: if 'age' is greater than or equal to 25, print \"Renting a car is more affordable\", however if 'age' is less than 25, print \"Renting a car is very expensive.\"\n",
    "age = 26\n",
    "if age >= 25:\n",
    "    print(\"Renting a car is more affordable\")\n",
    "else:\n",
    "    print(\"Renting a car is very expensive.\")\n",
    "\n",
    "#Create and chain an if-else statement: if 'age' is greater than or equal to 25, print \"Renting a car is more affordable.\" If 'age' is less than 25 but greater than or equal to 18, print \"Renting a car is very expensive.\" Finally, if age is less than 18, print \"You cannot legally rent a car.\"\n",
    "if age >= 25:\n",
    "    print(\"Renting a car is more affordable.\")\n",
    "elif age <=25 and age > 18:\n",
    "        print(\"Renting a car is very expensive\")\n",
    "else:\n",
    "    print(\"You cannot legally rent a car\")\n",
    "\n",
    "#Loop over the following string to (1) count all the characters in the string and (2) print out all the vowels -- \"The quick brown fox jumps over the lazy dog\"\n",
    "mystring = \"You cannot legally rent a car.\"\n",
    "sum = 0 \n",
    "for x in mystring:\n",
    "     sum += 1\n",
    "print(sum)\n",
    "\n",
    "mylist = ['a', 'e', 'i', 'o', 'u', 'A', 'E', 'I', 'O', 'U']\n",
    "\n",
    "for x in mystring:\n",
    "     if x in mylist:\n",
    "        print(x)"
   ]
  },
  {
   "cell_type": "code",
   "execution_count": 18,
   "metadata": {},
   "outputs": [
    {
     "name": "stdout",
     "output_type": "stream",
     "text": [
      "trousers cerise\n",
      "trousers Dark Sapphire\n",
      "trousers fuchsia\n",
      "trousers gunmetal blue\n",
      "trousers maple\n",
      "trousers auburn\n",
      "trousers aqua\n",
      "trousers burnt sienna\n",
      "blouse cerise\n",
      "blouse Dark Sapphire\n",
      "blouse fuchsia\n",
      "blouse gunmetal blue\n",
      "blouse maple\n",
      "blouse auburn\n",
      "blouse aqua\n",
      "blouse burnt sienna\n",
      "bandana cerise\n",
      "bandana Dark Sapphire\n",
      "bandana fuchsia\n",
      "bandana gunmetal blue\n",
      "bandana maple\n",
      "bandana auburn\n",
      "bandana aqua\n",
      "bandana burnt sienna\n",
      "cumber band cerise\n",
      "cumber band Dark Sapphire\n",
      "cumber band fuchsia\n",
      "cumber band gunmetal blue\n",
      "cumber band maple\n",
      "cumber band auburn\n",
      "cumber band aqua\n",
      "cumber band burnt sienna\n",
      "blazer cerise\n",
      "blazer Dark Sapphire\n",
      "blazer fuchsia\n",
      "blazer gunmetal blue\n",
      "blazer maple\n",
      "blazer auburn\n",
      "blazer aqua\n",
      "blazer burnt sienna\n",
      "vest cerise\n",
      "vest Dark Sapphire\n",
      "vest fuchsia\n",
      "vest gunmetal blue\n",
      "vest maple\n",
      "vest auburn\n",
      "vest aqua\n",
      "vest burnt sienna\n",
      "french beret cerise\n",
      "french beret Dark Sapphire\n",
      "french beret fuchsia\n",
      "french beret gunmetal blue\n",
      "french beret maple\n",
      "french beret auburn\n",
      "french beret aqua\n",
      "french beret burnt sienna\n",
      "scarf cerise\n",
      "scarf Dark Sapphire\n",
      "scarf fuchsia\n",
      "scarf gunmetal blue\n",
      "scarf maple\n",
      "scarf auburn\n",
      "scarf aqua\n",
      "scarf burnt sienna\n",
      "stole cerise\n",
      "stole Dark Sapphire\n",
      "stole fuchsia\n",
      "stole gunmetal blue\n",
      "stole maple\n",
      "stole auburn\n",
      "stole aqua\n",
      "stole burnt sienna\n"
     ]
    }
   ],
   "source": [
    "#Write a nested loop that prints out every piece of clothing from the couture list, in every fashionable color from the panettone set: couture = [\"trousers\", \"blouse\", \"bandana\", \"cumber band\", \"blazer\", \"vest\", \"french beret\", \"scarf\", \"stole\"] and panettone = {\"cerise\", \"fuchsia\", \"aqua\", \"maple\", \"auburn\", \"burnt sienna\", \"gunmetal blue\", \"Dark Sapphire\"}\n",
    "couture = [\"trousers\", \"blouse\", \"bandana\", \"cumber band\", \"blazer\", \"vest\", \"french beret\", \"scarf\", \"stole\"]\n",
    "panettone = {\"cerise\", \"fuchsia\", \"aqua\", \"maple\", \"auburn\", \"burnt sienna\", \"gunmetal blue\", \"Dark Sapphire\"}\n",
    "\n",
    "for x in couture:\n",
    "     for y in panettone:\n",
    "          print(x,y) "
   ]
  },
  {
   "cell_type": "code",
   "execution_count": 36,
   "metadata": {},
   "outputs": [
    {
     "name": "stdout",
     "output_type": "stream",
     "text": [
      "5050\n",
      "cherry\n",
      "['kiwi', 'banana', 'cherry']\n",
      "['apple', 'banana', 'cherry', 'orange']\n",
      "['apple', 'lemon', 'banana', 'cherry']\n",
      "['apple', 'cherry']\n",
      "['kiwi', 'melon']\n",
      "['cherry', 'orange', 'kiwi']\n",
      "7\n",
      "['orange', 'melon', 'mango', 'kiwi', 'cherry', 'banana', 'apple']\n"
     ]
    }
   ],
   "source": [
    "#Use range as a loop to calculate the sum of all the numbers from 1 to 100\n",
    "sum = 0\n",
    "for x in range(1,101):\n",
    "   sum += x\n",
    "print(sum)     \n",
    "\n",
    "#Print the second item in this fruits list. [\"apple\", \"banana\", \"cherry\"]\n",
    "mylist = ['apple', 'banana', 'cherry']\n",
    "\n",
    "print(mylist[2])\n",
    "\n",
    "#Change the value from \"apple\" to \"kiwi\", in the fruits list. [\"apple\", \"banana\", \"cherry\"]\n",
    "mylist[0] = 'kiwi'\n",
    "print(mylist)\n",
    "\n",
    "#Use the append method to add \"orange\" to the fruits list. [\"apple\", \"banana\", \"cherry\"]\n",
    "mylistone = [\"apple\", \"banana\", \"cherry\"]\n",
    "mylistone.append('orange')\n",
    "print(mylistone)\n",
    "\n",
    "#Use the insert method to add \"lemon\" as the second item in the fruits list. [\"apple\", \"banana\", \"cherry\"]\n",
    "mylisttwo = [\"apple\", \"banana\", \"cherry\"]\n",
    "mylisttwo.insert(1,\"lemon\")\n",
    "print(mylisttwo)\n",
    "\n",
    "#Use the remove method to remove \"banana\" from the fruits list. [\"apple\", \"banana\", \"cherry\"]\n",
    "mylistthree= [\"apple\", \"banana\", \"cherry\"]\n",
    "mylistthree.remove('banana')\n",
    "print(mylistthree)\n",
    "\n",
    "#Use negative indexing to print the 3rd and 2nd to last items in the list. [\"apple\", \"banana\", \"cherry\", \"orange\", \"kiwi\", \"melon\", \"mango\"]\n",
    "mylistfour= [\"apple\", \"banana\", \"cherry\", \"orange\", \"kiwi\", \"melon\", \"mango\"]\n",
    "print(mylistfour[-3:-1])\n",
    "\n",
    "\n",
    "#Use a range of indexes to print the third, fourth, and fifth item in the list. [\"apple\", \"banana\", \"cherry\", \"orange\", \"kiwi\", \"melon\", \"mango\"]\n",
    "print(mylistfour[2:5])\n",
    "\n",
    "\n",
    "#Use the correct syntax to print the number of items in the list. [\"apple\", \"banana\", \"cherry\", \"orange\", \"kiwi\", \"melon\", \"mango\"]\n",
    "print(len(mylistfour))\n",
    "\n",
    "\n",
    "#Use the correct syntax to sort this list in reverse order [\"apple\", \"banana\", \"cherry\", \"orange\", \"kiwi\", \"melon\", \"mango\"]\n",
    "mylistfour.sort(reverse=True)\n",
    "print(mylistfour)\n"
   ]
  }
 ],
 "metadata": {
  "kernelspec": {
   "display_name": "Python 3",
   "language": "python",
   "name": "python3"
  },
  "language_info": {
   "codemirror_mode": {
    "name": "ipython",
    "version": 3
   },
   "file_extension": ".py",
   "mimetype": "text/x-python",
   "name": "python",
   "nbconvert_exporter": "python",
   "pygments_lexer": "ipython3",
   "version": "3.11.1 (v3.11.1:a7a450f84a, Dec  6 2022, 15:24:06) [Clang 13.0.0 (clang-1300.0.29.30)]"
  },
  "orig_nbformat": 4,
  "vscode": {
   "interpreter": {
    "hash": "aee8b7b246df8f9039afb4144a1f6fd8d2ca17a180786b69acc140d282b71a49"
   }
  }
 },
 "nbformat": 4,
 "nbformat_minor": 2
}
