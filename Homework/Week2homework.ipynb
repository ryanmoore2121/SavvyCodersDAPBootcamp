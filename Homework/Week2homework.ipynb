{
 "cells": [
  {
   "attachments": {},
   "cell_type": "markdown",
   "metadata": {},
   "source": [
    "# Homework Section 2.3"
   ]
  },
  {
   "attachments": {},
   "cell_type": "markdown",
   "metadata": {},
   "source": [
    "### Question 1: What kind of language is Python consider?\n",
    "\n",
    "Python is a general purpose, object-oriented programming language. \n",
    "\n",
    "Python is considered a:\n",
    "- General purpose langauge\n",
    "- Object- oriented langauge\n",
    "- High-level language\n",
    "- Interpreted language "
   ]
  },
  {
   "attachments": {},
   "cell_type": "markdown",
   "metadata": {},
   "source": [
    "### Question 2: What's a natural language?\n",
    "\n",
    "Natural languages are mostly spoken language that form their own language such as slang. \n",
    "\n",
    "Natural language in coding is a high-level coding language that is easier for humans to understand and they generally:\n",
    "- Take less time to write \n",
    "- Are shorter and easier to read\n",
    "- And are likely to be correct/error free when we run them.  "
   ]
  },
  {
   "attachments": {},
   "cell_type": "markdown",
   "metadata": {},
   "source": [
    "### Question 3: Is Python a Natural or Formal Language?\n",
    "\n",
    "Python is a formal language. \n",
    "\n",
    "**All programming languages are formal languages.**"
   ]
  },
  {
   "attachments": {},
   "cell_type": "markdown",
   "metadata": {},
   "source": [
    "### Question 4: What are Algorithms?\n",
    "\n",
    "Algorithms are series of steps to solve a problem at hand.  "
   ]
  },
  {
   "attachments": {},
   "cell_type": "markdown",
   "metadata": {},
   "source": [
    "### Question 5: Why is Python considered to be a high-level language?\n",
    "\n",
    "Python is a high-level language becuase the program must be processed before they can be run by a computer.  Python is made so that is it easier for us to understand but this requires the computer to convert the program into machine language so that the computer can understand it. "
   ]
  },
  {
   "attachments": {},
   "cell_type": "markdown",
   "metadata": {},
   "source": [
    "### Question 6: What is the program we use to write Python in?\n",
    "\n",
    "We use an Integrated Development Environment (IDE) such as **VS Code IDE** to write our Python.   "
   ]
  },
  {
   "attachments": {},
   "cell_type": "markdown",
   "metadata": {},
   "source": [
    "### Question 7: What is a Semantic error?\n",
    "\n",
    "A semantic error is code that is grammatically correct but doesn't make any sense and it doesn't produce the results we expect this could be code such as asking for the sum of two numbers by coding it like: \n",
    "\n",
    "num1 = \"1\"\n",
    "num2 = \"1\"\n",
    "sum =  num 1 + num 2\n",
    "print(sum)  \n",
    "\n",
    "This will print 11 and not the expected 2 because of the paranthesis as seen below.  "
   ]
  },
  {
   "cell_type": "code",
   "execution_count": 4,
   "metadata": {},
   "outputs": [
    {
     "name": "stdout",
     "output_type": "stream",
     "text": [
      "11\n"
     ]
    }
   ],
   "source": [
    "# Example of Semantic Error In Python\n",
    "num1 = \"1\"\n",
    "num2 = \"1\"\n",
    "sum = num1 + num2\n",
    "print(sum)"
   ]
  },
  {
   "attachments": {},
   "cell_type": "markdown",
   "metadata": {},
   "source": [
    "### Question 8: What's the file extension of a Python file?\n",
    "\n",
    "You can create a Python file by adding **.py** to the **end of your file.** "
   ]
  },
  {
   "attachments": {},
   "cell_type": "markdown",
   "metadata": {},
   "source": [
    "### Question 9: What is the area called where we put in our commands?\n",
    "\n",
    "We typically put in our commands in the **command line (CLI)** also known as the **terminal.** "
   ]
  },
  {
   "attachments": {},
   "cell_type": "markdown",
   "metadata": {},
   "source": [
    "### Question 10: What is the #1 rule of coding / debugging?\n",
    "\n",
    "**Complexity is the enemy of efficiency.**"
   ]
  },
  {
   "cell_type": "code",
   "execution_count": 2,
   "metadata": {},
   "outputs": [
    {
     "name": "stdout",
     "output_type": "stream",
     "text": [
      "Hello, World\n"
     ]
    }
   ],
   "source": [
    "#Python program that prints Hello, World\n",
    "print(\"Hello, World\")"
   ]
  }
 ],
 "metadata": {
  "kernelspec": {
   "display_name": "Python 3",
   "language": "python",
   "name": "python3"
  },
  "language_info": {
   "codemirror_mode": {
    "name": "ipython",
    "version": 3
   },
   "file_extension": ".py",
   "mimetype": "text/x-python",
   "name": "python",
   "nbconvert_exporter": "python",
   "pygments_lexer": "ipython3",
   "version": "3.11.1"
  },
  "orig_nbformat": 4,
  "vscode": {
   "interpreter": {
    "hash": "aee8b7b246df8f9039afb4144a1f6fd8d2ca17a180786b69acc140d282b71a49"
   }
  }
 },
 "nbformat": 4,
 "nbformat_minor": 2
}
