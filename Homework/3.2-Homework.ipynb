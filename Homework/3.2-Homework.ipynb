{
 "cells": [
  {
   "attachments": {},
   "cell_type": "markdown",
   "metadata": {},
   "source": [
    "# Homework 3.2"
   ]
  },
  {
   "cell_type": "code",
   "execution_count": 14,
   "metadata": {},
   "outputs": [
    {
     "name": "stdout",
     "output_type": "stream",
     "text": [
      "[1, 2.2, '3', 4.4, 5]\n",
      "['1', 2.2, '3', 4.4, 5]\n",
      "['1', 1.2, 2.2, '3', 4.4, 5, '6']\n",
      "7\n",
      "['1', '3', 4.4, 5, '6']\n",
      "[1.2, 2.2]\n",
      "['1', '3', 4.4, 5, '6', 1.2, 2.2]\n",
      "[5, 4, 3, 2, 1]\n",
      "[5, 4, 3, 2, 1, 5, 4, 3, 2, 1]\n"
     ]
    }
   ],
   "source": [
    "#Homework 3.2 Part 2\n",
    "\n",
    "#Create a list of 5 elements of mixed data types. \n",
    "mixeddatatypes = [1, 2.2, \"3\", 4.4, 5]\n",
    "print(mixeddatatypes)\n",
    "\n",
    "#replace a part of it with something else\n",
    "mixeddatatypes[0] = \"1\"\n",
    "\n",
    "#printing to test work\n",
    "print(mixeddatatypes)\n",
    "\n",
    "#Append or insert several more items to the list\n",
    "mixeddatatypes.append(\"6\")\n",
    "mixeddatatypes.insert(1, 1.2)\n",
    "print(mixeddatatypes)\n",
    "\n",
    "#Find and print the length of the list\n",
    "print(len(mixeddatatypes))\n",
    "\n",
    "#Slice a sub-section of the 1st list and save it to a different list\n",
    "newlist = mixeddatatypes[1:3]\n",
    "del mixeddatatypes[1:3]\n",
    "print(mixeddatatypes)\n",
    "#print the 2nd list\n",
    "print(newlist)\n",
    "\n",
    "#Extend your original list with the 2nd list sliced above\n",
    "mixeddatatypes.extend(newlist)\n",
    "print(mixeddatatypes)\n",
    "\n",
    "#Create a new list called simList containing at least 5 elements of the same data type\n",
    "simList= [1, 2, 3, 4, 5]\n",
    "\n",
    "#Sort and print\n",
    "simList.sort(reverse = True) \n",
    "print(simList) \n",
    "\n",
    "#copy the simList to a 3rd list\n",
    "simlistthree = simList\n",
    "\n",
    "#Add the 2nd and 3rd list together into a 4th list \n",
    "simlistfour = simList + simlistthree\n",
    "print(simlistfour)"
   ]
  },
  {
   "cell_type": "code",
   "execution_count": 30,
   "metadata": {},
   "outputs": [
    {
     "name": "stdout",
     "output_type": "stream",
     "text": [
      "(5, 6, 3, 4, 5)\n",
      "(5, 6, 3, 4, 5, 5, 6, 3, 4, 5, 5, 6, 3, 4, 5)\n",
      "6\n",
      "[3, 3, 3, 4, 4, 4, 5, 5, 5, 5, 5, 5, 6, 6, 6]\n",
      "(6, 3, 4, 5)\n",
      "6 3 4 5\n",
      "(50,)\n",
      "(5, 6, 3, 4, 5, 5, 6, 3, 4, 5, 5, 6, 3, 4, 5, 6, 3, 4, 5)\n"
     ]
    }
   ],
   "source": [
    "#Homework 3.2 Part 3 \n",
    "\n",
    "#Create a tuple of about 5 elements\n",
    "myfirsttuple = (5, 6, 3, 4, 5)\n",
    "print(myfirsttuple)\n",
    "\n",
    "#multiply your tuple by 3 and save it to a new 2nd tuple\n",
    "multiplied = myfirsttuple * 3\n",
    "print(multiplied)\n",
    "\n",
    "#access and print the 12th element from the 2nd tuple\n",
    "print(multiplied[11])\n",
    "\n",
    "#sort the 2nd tuple and print it\n",
    "print(sorted(multiplied))\n",
    " \n",
    "#copy 4 specific elements from your 2nd tuple to a new 3nd tuple\n",
    "mythirdtuple = multiplied[1:5]\n",
    "print(mythirdtuple)\n",
    "\n",
    "#unpack the 3rd tuple into 4 variables and print these variables\n",
    "a, b, c, d = mythirdtuple\n",
    "print(a, b, c, d)\n",
    "\n",
    "#create a 4th tuple with single item 50 and print this tuple\n",
    "myfourthtuple = (50,)\n",
    "print(myfourthtuple)\n",
    "\n",
    "#add the 2nd and 3rd tuple together into a 5th tuple and print the tuple\n",
    "myfifthtuple = multiplied + mythirdtuple\n",
    "print(myfifthtuple)"
   ]
  },
  {
   "cell_type": "code",
   "execution_count": 47,
   "metadata": {},
   "outputs": [
    {
     "name": "stdout",
     "output_type": "stream",
     "text": [
      "{1, 2, 3, 'cherry', 'apple', 'banana'}\n",
      "{1, 2, 3, 'cherry', 'car', 'apple', 'banana'}\n",
      "{'cats', 'fish', 'dogs', 'rabbits'}\n",
      "{1, 2, 3, 'cats', 'cherry', 'fish', 'rabbits', 'car', 'apple', 'banana', 'dogs'}\n",
      "{'fish', 'dogs', 'rabbits'}\n",
      "cats\n",
      "set()\n",
      "{1, 2, 3, 'cats', 'cherry', 'rabbits', 'car', 'apple', 'banana'}\n"
     ]
    }
   ],
   "source": [
    "#Homework 3.2 Part 4\n",
    "\n",
    "#Create a set of about 3 elements\n",
    "s_one = {1, 2, 3}\n",
    "\n",
    "#add a list of fruits to the above set and print the result\n",
    "myfruits = ['apple', 'banana', 'cherry']\n",
    "for x in myfruits:\n",
    "    s_one.add(x)\n",
    "print(s_one)\n",
    "\n",
    "#add a car element to your set\n",
    "s_one.add('car')\n",
    "print(s_one)\n",
    "\n",
    "#create a 2nd set with a few odd items\n",
    "s_two = {'dogs', 'cats', 'rabbits', 'fish'}\n",
    "print(s_two)\n",
    "\n",
    "#save the union of 1st set and 2nd set to a 3rd set\n",
    "s_three = s_two.union(s_one)\n",
    "print(s_three)\n",
    "\n",
    "#pop an element from the 2nd set, and print the remainder of the set\n",
    "popped = s_two.pop()\n",
    "print(s_two)\n",
    "print(popped)\n",
    "\n",
    "#clear the 1st set and print the result\n",
    "s_one.clear()\n",
    "print(s_one)\n",
    "\n",
    "#discard an element, and remove another element from the 3rd set\n",
    "s_three.discard(\"dogs\")\n",
    "s_three.remove(\"fish\")\n",
    "\n",
    "#print the remainder of the 3rd set\n",
    "print(s_three)"
   ]
  },
  {
   "cell_type": "code",
   "execution_count": 54,
   "metadata": {},
   "outputs": [
    {
     "name": "stdout",
     "output_type": "stream",
     "text": [
      "{'one': 1, 'two': 'two', 'three': 3.0, 'four': 4, 'five': 5.0}\n",
      "1\n",
      "{'one': 'Ryan', 'two': 'two', 'three': 3.0, 'four': 4, 'five': 5.0}\n",
      "{'one': 'Ryan', 'two': 'two', 'three': 3.0, 'four': 4, 'five': 5.0, 'six': 'Blue'}\n",
      "{'one': 'Ryan', 'two': 'two', 'three': 3.0, 'four': 4, 'five': 5.0, 'six': 'Blue', 'seven': [1, 2, 3, 4, 5]}\n",
      "dict_keys(['one', 'two', 'three', 'four', 'five', 'six', 'seven'])\n",
      "dict_values(['Ryan', 'two', 3.0, 4, 5.0, 'Blue', [1, 2, 3, 4, 5]])\n",
      "{'one': 'Ryan', 'two': 'two', 'three': 3.0, 'four': 4, 'five': 5.0, 'six': 'Blue', 'seven': [1, 2, 3, 4, 5]}\n",
      "{'two': 'two', 'three': 3.0, 'four': 4, 'five': 5.0, 'six': 'Blue', 'seven': [1, 2, 3, 4, 5]}\n",
      "{}\n"
     ]
    }
   ],
   "source": [
    "# Homework 3.2 Part 5\n",
    "\n",
    "#Create a dictionary with at least 5 values of different data types\n",
    "d_one = {\n",
    "    'one': 1,\n",
    "    'two': \"two\",\n",
    "    'three': 3.0,\n",
    "    'four': 4,\n",
    "    'five': 5.0\n",
    "    }\n",
    "print(d_one)\n",
    "\n",
    "#print out 1 value\n",
    "print(d_one['one'])\n",
    "\n",
    "#replace any one value in your dictionary with your name\n",
    "d_one.update({'one': \"Ryan\"})\n",
    "print(d_one)\n",
    "\n",
    "#add your favorite color to the dictionary\n",
    "d_one.update({'six': \"Blue\"})\n",
    "print(d_one)\n",
    "\n",
    "#add a list, tuple or set to your dictionary\n",
    "d_one.update({'seven': [1, 2, 3, 4, 5]})\n",
    "print(d_one)\n",
    "\n",
    "#print a list of the dictionary keys\n",
    "mylistofkeys = d_one.keys()\n",
    "print(mylistofkeys)\n",
    "\n",
    "#print a list of the dictionary values\n",
    "mylistofvalues = d_one.values()\n",
    "print(mylistofvalues)\n",
    "\n",
    "#copy your 1st dictionary into a 2nd dictionary\n",
    "d_two = d_one.copy()\n",
    "print(d_two)\n",
    "\n",
    "#pop an item from the 2nd dictionary, and print the dictionary\n",
    "d_two.pop(\"one\")\n",
    "print(d_two)\n",
    "\n",
    "#remove all the elements from the 2nd dictionary and print the result\n",
    "d_two.clear()\n",
    "print(d_two)"
   ]
  }
 ],
 "metadata": {
  "kernelspec": {
   "display_name": "Python 3",
   "language": "python",
   "name": "python3"
  },
  "language_info": {
   "codemirror_mode": {
    "name": "ipython",
    "version": 3
   },
   "file_extension": ".py",
   "mimetype": "text/x-python",
   "name": "python",
   "nbconvert_exporter": "python",
   "pygments_lexer": "ipython3",
   "version": "3.11.1 (v3.11.1:a7a450f84a, Dec  6 2022, 15:24:06) [Clang 13.0.0 (clang-1300.0.29.30)]"
  },
  "orig_nbformat": 4,
  "vscode": {
   "interpreter": {
    "hash": "aee8b7b246df8f9039afb4144a1f6fd8d2ca17a180786b69acc140d282b71a49"
   }
  }
 },
 "nbformat": 4,
 "nbformat_minor": 2
}
