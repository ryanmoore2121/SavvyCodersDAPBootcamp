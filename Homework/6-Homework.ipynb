{
 "cells": [
  {
   "attachments": {},
   "cell_type": "markdown",
   "metadata": {},
   "source": [
    "# Homework Week 6"
   ]
  },
  {
   "cell_type": "code",
   "execution_count": 9,
   "metadata": {},
   "outputs": [
    {
     "name": "stdout",
     "output_type": "stream",
     "text": [
      "             Semester Grades Unnamed: 1 Unnamed: 2      Unnamed: 3\n",
      "0               Student Name       Age       Grade        Homeroom\n",
      "1             Sarah Ashworth         12       0.85  Social Studies\n",
      "2             Amanda Johnson         11       0.72  Social Studies\n",
      "3                David Cline         13        0.6  Social Studies\n",
      "4            Matthew Roberts         12       0.95  Social Studies\n",
      "5            Sierra Chadwick         14       0.88  Social Studies\n",
      "6         Ronnie Dangerfield         12       0.99  Social Studies\n",
      "7              Thomas Cruise         11       0.75  Social Studies\n",
      "8       Bradley Swickerwrath         13          1  Social Studies\n",
      "9               Gracie Smith         13       0.75  Social Studies\n",
      "10             John McDonald         15       0.85  Social Studies\n",
      "11             Raymond James         11       0.85  Social Studies\n",
      "12                       NaN        NaN        NaN             NaN\n",
      "13                       Min         11        0.6             NaN\n",
      "14                       Max         15          1             NaN\n",
      "15                       Avg  12.454545   0.835455             NaN\n",
      "16                      Mode         12       0.85             NaN\n",
      "17                    Median         12       0.85             NaN\n",
      "18  Count Number of Students         11        NaN             NaN\n"
     ]
    }
   ],
   "source": [
    "#Sheet 1 Roster\n",
    "import pandas as pd\n",
    "\n",
    "df = pd.read_excel('6-Homework.xlsx')\n",
    "\n",
    "print(df)\n"
   ]
  },
  {
   "cell_type": "code",
   "execution_count": 10,
   "metadata": {},
   "outputs": [
    {
     "name": "stdout",
     "output_type": "stream",
     "text": [
      "   Credit Card Debt              Unnamed: 1     Unnamed: 2   Unnamed: 3  \\\n",
      "0       Credit Card                 Balance  Interest Rate       Months   \n",
      "1          Discover                    2000           0.21            3   \n",
      "2       Capital One                     450           0.25            3   \n",
      "3         Citi Card                     975           0.27            3   \n",
      "4            Target                    1500           0.15            3   \n",
      "5          Wal-Mart                     780           0.25            3   \n",
      "6               NaN                     NaN            NaN          NaN   \n",
      "7               NaN                     NaN            NaN          NaN   \n",
      "8       Credit Card  Sum of Monthly Payment            NaN  Credit Card   \n",
      "9       Capital One                  46.875            NaN  Capital One   \n",
      "10        Citi Card                103.1875            NaN    Citi Card   \n",
      "11         Discover              201.666667            NaN     Discover   \n",
      "12           Target                  143.75            NaN       Target   \n",
      "13         Wal-Mart                   81.25            NaN     Wal-Mart   \n",
      "14      Grand Total              576.729167            NaN  Grand Total   \n",
      "\n",
      "        Unnamed: 4              Unnamed: 5       Unnamed: 6  \n",
      "0    Interest Paid       Total Loan Amount  Monthly Payment  \n",
      "1              140                    2420       201.666667  \n",
      "2             37.5                   562.5           46.875  \n",
      "3            87.75                 1238.25         103.1875  \n",
      "4               75                  1725.0           143.75  \n",
      "5               65                     975            81.25  \n",
      "6              NaN                     NaN              NaN  \n",
      "7              NaN                     NaN              NaN  \n",
      "8   Sum of Balance  Sum of Monthly Payment              NaN  \n",
      "9              450                  46.875              NaN  \n",
      "10             975                103.1875              NaN  \n",
      "11            2000              201.666667              NaN  \n",
      "12            1500                  143.75              NaN  \n",
      "13             780                   81.25              NaN  \n",
      "14            5705              576.729167              NaN  \n"
     ]
    }
   ],
   "source": [
    "#Sheet 2 Credit Card Debt\n",
    "import pandas as pd\n",
    "\n",
    "df = pd.read_excel('6-Homework.xlsx',1)\n",
    "\n",
    "print(df)"
   ]
  },
  {
   "cell_type": "code",
   "execution_count": 11,
   "metadata": {},
   "outputs": [
    {
     "name": "stdout",
     "output_type": "stream",
     "text": [
      "   Employee Payroll  Unnamed: 1   Ryan Moore 2023-03-05 00:00:00  \\\n",
      "0               NaN         NaN          NaN                 NaN   \n",
      "1        Last  Name  First Name  Hourly Wage        Hours Worked   \n",
      "2            Walker     Lindsay           10                  40   \n",
      "3              Bell        Gary           15                  35   \n",
      "4            Rogers     Phillip          3.5                  30   \n",
      "5              Hill        Bill         20.1                  50   \n",
      "6            Abbott       Bryan         5.75                  55   \n",
      "7             Young       Tammy           12                  45   \n",
      "8              Hail       Aaron         6.55                  25   \n",
      "9            Miller   Christina           30                  29   \n",
      "10           Little     Matthew           75                  32   \n",
      "11           Munson        Cary           40                  44   \n",
      "12           Taylor      Milton           25                  22   \n",
      "13              NaN         NaN          NaN                 NaN   \n",
      "14              MAX         NaN           75                  55   \n",
      "15              MIN         NaN          3.5                  22   \n",
      "16              AVG         NaN    22.081818                  37   \n",
      "17            TOTAL         NaN        242.9                 407   \n",
      "\n",
      "      Unnamed: 4    Unnamed: 5    Unnamed: 6    Unnamed: 7 Unnamed: 8  \\\n",
      "0            NaN           NaN           NaN           NaN        NaN   \n",
      "1   Hours Worked  Hours Worked  Hours Worked  Hours Worked        Pay   \n",
      "2             40            40            40            40       2000   \n",
      "3             35            35            35            35       2625   \n",
      "4             30            30            30            30        525   \n",
      "5             50            50            50            50       5025   \n",
      "6             55            55            55            55    1581.25   \n",
      "7             45            45            45            45       2700   \n",
      "8             25            25            25            25     818.75   \n",
      "9             29            29            29            29       4350   \n",
      "10            32            32            32            32      12000   \n",
      "11            44            44            44            44       8800   \n",
      "12            22            22            22            22       2750   \n",
      "13           NaN           NaN           NaN           NaN        NaN   \n",
      "14            55            55            55            55      12000   \n",
      "15            22            22            22            22        525   \n",
      "16            37            37            37            37       3925   \n",
      "17           407           407           407           407      43175   \n",
      "\n",
      "        Unnamed: 9     Unnamed: 10     Unnamed: 11     Unnamed: 12  \\\n",
      "0              NaN             NaN             NaN             NaN   \n",
      "1   Overtime Hours  Overtime Hours  Overtime Hours  Overtime Hours   \n",
      "2                0               0               0               0   \n",
      "3                0               0               0               0   \n",
      "4                0               0               0               0   \n",
      "5               10              10              10              10   \n",
      "6               15              15              15              15   \n",
      "7                5               5               5               5   \n",
      "8                0               0               0               0   \n",
      "9                0               0               0               0   \n",
      "10               0               0               0               0   \n",
      "11               4               4               4               4   \n",
      "12               0               0               0               0   \n",
      "13             NaN             NaN             NaN             NaN   \n",
      "14              15              15              15              15   \n",
      "15               0               0               0               0   \n",
      "16        3.090909        3.090909        3.090909        3.090909   \n",
      "17              34              34              34              34   \n",
      "\n",
      "       Unnamed: 13     Unnamed: 14  Unnamed: 15  \n",
      "0              NaN             NaN          NaN  \n",
      "1   Overtime Hours  Overtime Bonus        Total  \n",
      "2                0               0         2000  \n",
      "3                0               0         2625  \n",
      "4                0               0          525  \n",
      "5               10           502.5       5527.5  \n",
      "6               15         215.625     1796.875  \n",
      "7                5             150         2850  \n",
      "8                0               0       818.75  \n",
      "9                0               0         4350  \n",
      "10               0               0        12000  \n",
      "11               4             400         9200  \n",
      "12               0               0         2750  \n",
      "13             NaN             NaN          NaN  \n",
      "14              15           502.5        12000  \n",
      "15               0               0          525  \n",
      "16        3.090909      115.284091  4040.284091  \n",
      "17              34        1268.125    44443.125  \n"
     ]
    }
   ],
   "source": [
    "#Sheet 3 Payroll\n",
    "import pandas as pd\n",
    "\n",
    "df = pd.read_excel('6-Homework.xlsx',2)\n",
    "\n",
    "print(df)"
   ]
  },
  {
   "cell_type": "code",
   "execution_count": 12,
   "metadata": {},
   "outputs": [
    {
     "name": "stdout",
     "output_type": "stream",
     "text": [
      "               EXP Table         Unnamed: 1      Unnamed: 2  \\\n",
      "0          Document Date           Supplier       Reference   \n",
      "1    2011-02-14 00:00:00       XY Solutions          S77782   \n",
      "2    2011-03-01 00:00:00  IS Communications   Invoice EXP22   \n",
      "3    2011-03-02 00:00:00           Newscorp         I381119   \n",
      "4    2011-03-05 00:00:00        EAG Brokers     Debit Order   \n",
      "..                   ...                ...             ...   \n",
      "204  2012-02-26 00:00:00         HP Finance     Debit Order   \n",
      "205  2012-02-26 00:00:00      PR Properties     Debit Order   \n",
      "206  2012-02-29 00:00:00  Example (Pty) Ltd  Bank Statement   \n",
      "207  2012-02-29 00:00:00  Example (Pty) Ltd  Bank Statement   \n",
      "208  2012-02-29 00:00:00     Inland Revenue          Return   \n",
      "\n",
      "                    Unnamed: 3            Unnamed: 4 Unnamed: 5 Unnamed: 6  \\\n",
      "0                  Description  Tax Inclusive Amount   Tax Code  Bank Code   \n",
      "1              Opening Balance                  5100          A         B1   \n",
      "2    Internet Service Provider                   179          A         B1   \n",
      "3                Subscriptions                   478          A         B1   \n",
      "4                    Insurance                   340          A         B1   \n",
      "..                         ...                   ...        ...        ...   \n",
      "204              Interest paid                   100          E         B1   \n",
      "205                       Rent                  6400          A         B1   \n",
      "206   Petty Cash Reimbursement                    70          E         B1   \n",
      "207   Petty Cash Reimbursement                   -70          E         PC   \n",
      "208            Provisional Tax                  3700          E         B1   \n",
      "\n",
      "       Unnamed: 7           Unnamed: 8  \n",
      "0    Account Code         Payment Date  \n",
      "1          BS-500  2011-03-02 00:00:00  \n",
      "2          IS-380  2011-03-31 00:00:00  \n",
      "3          IS-375  2011-04-01 00:00:00  \n",
      "4          IS-340  2011-03-05 00:00:00  \n",
      "..            ...                  ...  \n",
      "204        IS-500  2012-02-26 00:00:00  \n",
      "205        IS-350  2012-02-26 00:00:00  \n",
      "206        BS-399  2012-02-29 00:00:00  \n",
      "207        BS-399  2012-02-29 00:00:00  \n",
      "208        IS-600  2012-02-29 00:00:00  \n",
      "\n",
      "[209 rows x 9 columns]\n"
     ]
    }
   ],
   "source": [
    "#Sheet 4 Expenses\n",
    "import pandas as pd\n",
    "\n",
    "df = pd.read_excel('6-Homework.xlsx',3)\n",
    "\n",
    "print(df)"
   ]
  },
  {
   "cell_type": "code",
   "execution_count": 13,
   "metadata": {},
   "outputs": [
    {
     "name": "stdout",
     "output_type": "stream",
     "text": [
      "    IAS Accountants Filter         Unnamed: 1      Unnamed: 2  \\\n",
      "0            Document Date           Supplier       Reference   \n",
      "1      2011-02-14 00:00:00       XY Solutions          S77782   \n",
      "2      2011-03-01 00:00:00  IS Communications   Invoice EXP22   \n",
      "3      2011-03-02 00:00:00           Newscorp         I381119   \n",
      "4      2011-03-05 00:00:00        EAG Brokers     Debit Order   \n",
      "..                     ...                ...             ...   \n",
      "204    2012-02-26 00:00:00         HP Finance     Debit Order   \n",
      "205    2012-02-26 00:00:00      PR Properties     Debit Order   \n",
      "206    2012-02-29 00:00:00  Example (Pty) Ltd  Bank Statement   \n",
      "207    2012-02-29 00:00:00  Example (Pty) Ltd  Bank Statement   \n",
      "208    2012-02-29 00:00:00     Inland Revenue          Return   \n",
      "\n",
      "                    Unnamed: 3            Unnamed: 4 Unnamed: 5 Unnamed: 6  \\\n",
      "0                  Description  Tax Inclusive Amount   Tax Code  Bank Code   \n",
      "1              Opening Balance                  5100          A         B1   \n",
      "2    Internet Service Provider                   179          A         B1   \n",
      "3                Subscriptions                   478          A         B1   \n",
      "4                    Insurance                   340          A         B1   \n",
      "..                         ...                   ...        ...        ...   \n",
      "204              Interest paid                   100          E         B1   \n",
      "205                       Rent                  6400          A         B1   \n",
      "206   Petty Cash Reimbursement                    70          E         B1   \n",
      "207   Petty Cash Reimbursement                   -70          E         PC   \n",
      "208            Provisional Tax                  3700          E         B1   \n",
      "\n",
      "       Unnamed: 7           Unnamed: 8  \n",
      "0    Account Code         Payment Date  \n",
      "1          BS-500  2011-03-02 00:00:00  \n",
      "2          IS-380  2011-03-31 00:00:00  \n",
      "3          IS-375  2011-04-01 00:00:00  \n",
      "4          IS-340  2011-03-05 00:00:00  \n",
      "..            ...                  ...  \n",
      "204        IS-500  2012-02-26 00:00:00  \n",
      "205        IS-350  2012-02-26 00:00:00  \n",
      "206        BS-399  2012-02-29 00:00:00  \n",
      "207        BS-399  2012-02-29 00:00:00  \n",
      "208        IS-600  2012-02-29 00:00:00  \n",
      "\n",
      "[209 rows x 9 columns]\n"
     ]
    }
   ],
   "source": [
    "#Sheet 5 IAS\n",
    "import pandas as pd\n",
    "\n",
    "df = pd.read_excel('6-Homework.xlsx',4)\n",
    "\n",
    "print(df)"
   ]
  },
  {
   "cell_type": "code",
   "execution_count": 14,
   "metadata": {},
   "outputs": [
    {
     "name": "stdout",
     "output_type": "stream",
     "text": [
      "             Supplier  Sum of Tax Inclusive Amount\n",
      "0          XY Traders                      7447.00\n",
      "1        XY Solutions                      5100.00\n",
      "2             Waltons                      2865.00\n",
      "3        Training Inc                       886.73\n",
      "4         SA Airlines                      4947.00\n",
      "5    QQ International                       200.00\n",
      "6        QA Attorneys                     12500.00\n",
      "7       PR Properties                     76800.00\n",
      "8            Newscorp                       598.00\n",
      "9        Municipality                      5620.00\n",
      "10        JSE Brokers                      3750.00\n",
      "11  IS Communications                      2148.00\n",
      "12         Interflora                      1145.00\n",
      "13     Inland Revenue                     36800.00\n",
      "14    IAS Accountants                     12000.00\n",
      "15         HP Finance                      3840.00\n",
      "16        GF Supplies                      1101.00\n",
      "17     Furniture City                      3000.00\n",
      "18  Example (Pty) Ltd                    253000.00\n",
      "19        EAG Brokers                      4080.00\n",
      "20       DF Equipment                     10000.00\n",
      "21         City Lodge                       563.00\n",
      "22       Capital Bank                      1350.00\n",
      "23      ACC Institute                      2000.00\n",
      "24        Grand Total                    451740.73\n"
     ]
    }
   ],
   "source": [
    "#Sheet 6 Suppliers\n",
    "import pandas as pd\n",
    "\n",
    "df = pd.read_excel('6-Homework.xlsx',5)\n",
    "\n",
    "print(df)"
   ]
  },
  {
   "cell_type": "code",
   "execution_count": 15,
   "metadata": {},
   "outputs": [
    {
     "name": "stdout",
     "output_type": "stream",
     "text": [
      "   Sum of Tax Inclusive Amount Bank Code Unnamed: 2 Unnamed: 3   Unnamed: 4\n",
      "0                 Payment Date        B1         B2         PC  Grand Total\n",
      "1          2012-01-02 00:00:00      1000        NaN        NaN         1000\n",
      "2          2012-01-05 00:00:00       340        NaN        NaN          340\n",
      "3          2012-01-15 00:00:00        80         35        NaN          115\n",
      "4          2012-01-16 00:00:00      1392        NaN        105         1497\n",
      "5          2012-01-20 00:00:00     20000     -20000        NaN            0\n",
      "6          2012-01-21 00:00:00       NaN        NaN         61           61\n",
      "7          2012-01-26 00:00:00      6720      20000        NaN        26720\n",
      "8          2012-01-31 00:00:00    738.25        NaN       -170       568.25\n",
      "9          2012-02-02 00:00:00      1000        NaN        NaN         1000\n",
      "10         2012-02-05 00:00:00       340        NaN        NaN          340\n",
      "11         2012-02-15 00:00:00        80         35        NaN          115\n",
      "12         2012-02-20 00:00:00     20000     -20000        NaN            0\n",
      "13         2012-02-25 00:00:00      2200        NaN         75         2275\n",
      "14         2012-02-26 00:00:00      6720      20000        NaN        26720\n",
      "15         2012-02-27 00:00:00       514        NaN        NaN          514\n",
      "16         2012-02-29 00:00:00      3770        NaN        -70         3700\n",
      "17                 Grand Total  64894.25         70          1     64965.25\n"
     ]
    }
   ],
   "source": [
    "#Sheet 7 Payments\n",
    "import pandas as pd\n",
    "\n",
    "df = pd.read_excel('6-Homework.xlsx',6)\n",
    "\n",
    "print(df)"
   ]
  },
  {
   "cell_type": "code",
   "execution_count": 16,
   "metadata": {},
   "outputs": [
    {
     "name": "stdout",
     "output_type": "stream",
     "text": [
      "      EmployeeID FirstName  CustomerId CustomerID  \\\n",
      "0              1     Nancy       10776      ERNSH   \n",
      "1              1     Nancy       10776      ERNSH   \n",
      "2              1     Nancy       10776      ERNSH   \n",
      "3              1     Nancy       10776      ERNSH   \n",
      "4              1     Nancy       10877      RICAR   \n",
      "...          ...       ...         ...        ...   \n",
      "2150           9      Anne       10687      HUNGO   \n",
      "2151           9      Anne       10687      HUNGO   \n",
      "2152           9      Anne       10557      LEHMS   \n",
      "2153           9      Anne       10557      LEHMS   \n",
      "2154           9      Anne       10970      BOLID   \n",
      "\n",
      "                       CompanyName  OrderID  ProductID  \\\n",
      "0                     Ernst Handel    10776         31   \n",
      "1                     Ernst Handel    10776         42   \n",
      "2                     Ernst Handel    10776         45   \n",
      "3                     Ernst Handel    10776         51   \n",
      "4               Ricardo Adocicados    10877         16   \n",
      "...                            ...      ...        ...   \n",
      "2150  Hungry Owl All-Night Grocers    10687         29   \n",
      "2151  Hungry Owl All-Night Grocers    10687         36   \n",
      "2152           Lehmanns Marktstand    10557         64   \n",
      "2153           Lehmanns Marktstand    10557         75   \n",
      "2154     Bólido Comidas preparadas    10970         52   \n",
      "\n",
      "                        ProductName  OrderDate  UnitPrice  Quantity  SubTotal  \n",
      "0                 Gorgonzola Telino 1996-01-15      12.50        16     200.0  \n",
      "1     Singaporean Hokkien Fried Mee 1996-01-15      14.00        12     168.0  \n",
      "2                       Røgede sild 1996-01-15       9.50        27     256.5  \n",
      "3             Manjimup Dried Apples 1996-01-15      53.00       120    6360.0  \n",
      "4                           Pavlova 1996-03-11      17.45        30     523.5  \n",
      "...                             ...        ...        ...       ...       ...  \n",
      "2150        Thüringer Rostbratwurst 1995-10-31     123.79        10    1237.9  \n",
      "2151                    Inlagd Sill 1995-10-31      19.00         6     114.0  \n",
      "2152      Wimmers gute Semmelknödel 1995-07-04      33.25        30     997.5  \n",
      "2153           Rhönbräu Klosterbier 1995-07-04       7.75        20     155.0  \n",
      "2154                       Filo Mix 1996-04-23       7.00        40     280.0  \n",
      "\n",
      "[2155 rows x 12 columns]\n"
     ]
    }
   ],
   "source": [
    "#Sheet 8 Sales Data\n",
    "import pandas as pd\n",
    "\n",
    "df = pd.read_excel('6-Homework.xlsx',7)\n",
    "\n",
    "print(df)"
   ]
  },
  {
   "cell_type": "code",
   "execution_count": 17,
   "metadata": {},
   "outputs": [
    {
     "name": "stdout",
     "output_type": "stream",
     "text": [
      "                           Unnamed: 0            Unnamed: 1       Unnamed: 2  \\\n",
      "0                                 NaN                   NaN              NaN   \n",
      "1                          Row Labels  Count of ProductName  Sum of SubTotal   \n",
      "2  Ana Trujillo Emparedados y helados                    10          1402.95   \n",
      "3                         Grand Total                    10          1402.95   \n",
      "\n",
      "         Unnamed: 3       Unnamed: 4  \n",
      "0               NaN              NaN  \n",
      "1  Sum of UnitPrice  Sum of Quantity  \n",
      "2            215.05               63  \n",
      "3            215.05               63  \n"
     ]
    }
   ],
   "source": [
    "#Sheet 9 Trujiullo\n",
    "import pandas as pd\n",
    "\n",
    "df = pd.read_excel('6-Homework.xlsx',8)\n",
    "\n",
    "print(df)"
   ]
  },
  {
   "cell_type": "code",
   "execution_count": 19,
   "metadata": {},
   "outputs": [
    {
     "name": "stdout",
     "output_type": "stream",
     "text": [
      "                         Unnamed: 0        Unnamed: 1       Unnamed: 2  \\\n",
      "0                    SALES ANALYSIS               NaN              NaN   \n",
      "1                        Row Labels  Sum of UnitPrice  Sum of Quantity   \n",
      "2               Alfreds Futterkiste            320.85              174   \n",
      "3                     Aniseed Syrup                10                6   \n",
      "4                  Chartreuse verte                18               21   \n",
      "5            Escargots de Bourgogne             13.25               40   \n",
      "6                       Fløtemysost              21.5               20   \n",
      "7      Grandma's Boysenberry Spread                25               16   \n",
      "8                      Lakkalikööri                18               15   \n",
      "9   Original Frankfurter grüne Soße                13                2   \n",
      "10             Raclette Courdavault                55               15   \n",
      "11                Rössle Sauerkraut              91.2               17   \n",
      "12                        Spegesild                12                2   \n",
      "13                     Vegie-spread              43.9               20   \n",
      "14                      Grand Total            320.85              174   \n",
      "\n",
      "         Unnamed: 3  \n",
      "0               NaN  \n",
      "1   Sum of SubTotal  \n",
      "2            4596.2  \n",
      "3                60  \n",
      "4               378  \n",
      "5               530  \n",
      "6               430  \n",
      "7               400  \n",
      "8               270  \n",
      "9                26  \n",
      "10              825  \n",
      "11            775.2  \n",
      "12               24  \n",
      "13              878  \n",
      "14           4596.2  \n"
     ]
    }
   ],
   "source": [
    "#Sheet 10 Alfreds\n",
    "import pandas as pd\n",
    "\n",
    "df = pd.read_excel('6-Homework.xlsx',9)\n",
    "\n",
    "print(df)"
   ]
  }
 ],
 "metadata": {
  "kernelspec": {
   "display_name": "Python 3",
   "language": "python",
   "name": "python3"
  },
  "language_info": {
   "codemirror_mode": {
    "name": "ipython",
    "version": 3
   },
   "file_extension": ".py",
   "mimetype": "text/x-python",
   "name": "python",
   "nbconvert_exporter": "python",
   "pygments_lexer": "ipython3",
   "version": "3.11.1"
  },
  "orig_nbformat": 4,
  "vscode": {
   "interpreter": {
    "hash": "aee8b7b246df8f9039afb4144a1f6fd8d2ca17a180786b69acc140d282b71a49"
   }
  }
 },
 "nbformat": 4,
 "nbformat_minor": 2
}
