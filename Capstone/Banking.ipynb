{
 "cells": [
  {
   "attachments": {},
   "cell_type": "markdown",
   "metadata": {},
   "source": [
    "# Banking Capstone Project\n"
   ]
  },
  {
   "attachments": {},
   "cell_type": "markdown",
   "metadata": {},
   "source": [
    "# Filtering Down Data Using Python\n",
    "\n",
    "To Start I had 5 different datasets for each year 2013, 2015, 2017, 2019, and 2021.  This included demographics including: Race/Ethnicity, Age Group, Education, Employment Status, Family Income, Disability Status, and Metropolitan vs Non-Metropolitan.  \n",
    "\n",
    "Since I was only looking at how age group has changed over time I needed to filter each of these data sets to only have the data for the age group and then join all those data sets into one excel file to use. "
   ]
  },
  {
   "cell_type": "code",
   "execution_count": 85,
   "metadata": {},
   "outputs": [],
   "source": [
    "import pandas as pd\n",
    "\n",
    "#This filters to the rows that I want for 2021\n",
    "df21 = pd.read_csv('2021.csv', skiprows = 13)\n",
    "df2021 = df21.head(6)\n",
    "\n",
    "#This filters to the rows that I want for 2019\n",
    "df19 = pd.read_csv('2019.csv', skiprows = 13)\n",
    "df2019 =df19.head(6)\n",
    "\n",
    "\n",
    "#This filters to the rows that I want for 2017\n",
    "df17 = pd.read_csv('2017.csv', skiprows = 13)\n",
    "df2017 =df17.head(6)\n",
    "\n",
    "\n",
    "#This filters to the rows that I want for 2015\n",
    "df15 = pd.read_csv('2015.csv', skiprows = 13)\n",
    "df2015 =df15.head(6)\n",
    "\n",
    "#This filters to the rows that I want for 2013\n",
    "df13 = pd.read_csv('2013.csv', skiprows = 13)\n",
    "df2013 =df13.head(6)\n",
    "\n",
    "#Concat all the filters - This joins all the data sets together\n",
    "df= pd.concat([df2013, df2015, df2017, df2019, df2021])\n",
    "\n",
    "#This saves the joined datasets to an Excel file\n",
    "df.to_excel('Databanking.xlsx', index=False, sheet_name = 'All')"
   ]
  },
  {
   "attachments": {},
   "cell_type": "markdown",
   "metadata": {},
   "source": [
    "Results of code above. \n",
    "\n",
    "[Filter1.png](Filter1.png)\n",
    "\n"
   ]
  },
  {
   "cell_type": "code",
   "execution_count": 86,
   "metadata": {},
   "outputs": [],
   "source": [
    "import pandas as pd\n",
    "'''After Filter 1, I realized that the data needed to be labeled including the\n",
    "column names so I renamed each column to be more clear. '''\n",
    "\n",
    "#This opens the excel sheet and renames the column headers\n",
    "df = pd.read_excel('Databanking.xlsx', sheet_name='All')\n",
    "\n",
    "df = df.rename(columns= {'Unnamed: 1': 'Households', 'Unnamed: 2': 'Percentage', 'Unnamed: 3': \n",
    "                         'Bank Teller', 'Unnamed: 4': 'ATM/Kiosk', 'Unnamed: 5': 'Telephone', \n",
    "                         'Unnamed: 6': 'Online', 'Unnamed: 7': 'Mobile', 'Unnamed: 8': 'Other'})\n",
    "df.to_excel('Databanking.xlsx', index = 'False')\n",
    "\n"
   ]
  },
  {
   "attachments": {},
   "cell_type": "markdown",
   "metadata": {},
   "source": [
    "Results of code above. \n",
    "\n",
    "[Filter2.png](Filter2.png)"
   ]
  },
  {
   "attachments": {},
   "cell_type": "markdown",
   "metadata": {},
   "source": [
    "Now that all the data was cleaned and filtered into excel I decided to use excel to continue from here. "
   ]
  }
 ],
 "metadata": {
  "kernelspec": {
   "display_name": "Python 3",
   "language": "python",
   "name": "python3"
  },
  "language_info": {
   "codemirror_mode": {
    "name": "ipython",
    "version": 3
   },
   "file_extension": ".py",
   "mimetype": "text/x-python",
   "name": "python",
   "nbconvert_exporter": "python",
   "pygments_lexer": "ipython3",
   "version": "3.11.1 (v3.11.1:a7a450f84a, Dec  6 2022, 15:24:06) [Clang 13.0.0 (clang-1300.0.29.30)]"
  },
  "orig_nbformat": 4,
  "vscode": {
   "interpreter": {
    "hash": "aee8b7b246df8f9039afb4144a1f6fd8d2ca17a180786b69acc140d282b71a49"
   }
  }
 },
 "nbformat": 4,
 "nbformat_minor": 2
}
